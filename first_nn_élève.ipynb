{
  "cells": [
    {
      "cell_type": "markdown",
      "metadata": {
        "id": "zf6kut3n4AiF"
      },
      "source": [
        "# <div align=\"center\">  <img src=\"logo.jpg\" alt=\"isolated\" width=\"100\"/> </div> <div align=\"center\" style=\"color:#FFA500\"> Automatants </div>"
      ]
    },
    {
      "cell_type": "markdown",
      "metadata": {
        "id": "JN19CsUqDNvB"
      },
      "source": [
        "# TP Réseaux de neurones\n",
        "\n",
        "Dans ce premier TP nous allons coder notre premier réseau des neuronnes ! Nous allons mettre en application ce que nous avons appris à la formation d'introduction pour créer une IA capable de detecter des chiffres écrits à la main !"
      ]
    },
    {
      "cell_type": "markdown",
      "metadata": {
        "id": "PLo1dAgur7oX"
      },
      "source": [
        "**Si vous bloquez à une question, n'hésitez surtout pas à appeler quelqu'un !**"
      ]
    },
    {
      "cell_type": "markdown",
      "metadata": {
        "id": "p541bvfNx0XZ"
      },
      "source": [
        "**Quand il y a un # cela veut dire qu'il faut écrire quelque chose à la place.**"
      ]
    },
    {
      "cell_type": "markdown",
      "metadata": {
        "id": "9CSOEKCsDNvF"
      },
      "source": [
        "## Import des librairies\n",
        "\n",
        "Ici on va importer numpy, matplotlib.pyplot et torch, torch.nn as nn et torchvision"
      ]
    },
    {
      "cell_type": "code",
      "execution_count": 5,
      "metadata": {
        "id": "DjvqC8rUDNvG"
      },
      "outputs": [],
      "source": [
        "#### Celulle à compléter ####\n",
        "\n",
        "\n",
        "import numpy as np\n",
        "import matplotlib.pyplot as plt\n",
        "import torch\n",
        "import torch.nn as nn\n",
        "import torchvision\n"
      ]
    },
    {
      "cell_type": "markdown",
      "metadata": {
        "id": "NKkdRgVKDNvH"
      },
      "source": [
        "## Téléchargement du dataset\n",
        "\n",
        "Le premier dataset sur lequel on va entraîner un réseau de neurones est MNIST. Ce sont 60 000 images de chiffres de 0 à 9 en noir et blanc avec leur catégorie/label associé. Elles sont de taille 28x28 et de pixels à valeurs dans [0,255].\n"
      ]
    },
    {
      "cell_type": "markdown",
      "metadata": {
        "id": "3ftOV9gn4AiZ"
      },
      "source": [
        "![alternative text](mnist.jpeg)"
      ]
    },
    {
      "cell_type": "markdown",
      "metadata": {
        "id": "eP98pfZ14Aic"
      },
      "source": [
        "On vous a créé le code pour telecharger le dataset. Nous avons aussi normalisé les images entre 0 et 1. Il suffit d'exectuer le code fourni"
      ]
    },
    {
      "cell_type": "code",
      "execution_count": 6,
      "metadata": {
        "colab": {
          "base_uri": "https://localhost:8080/"
        },
        "id": "MetOWY8IDNvI",
        "outputId": "023478b2-140b-4555-a04d-b52a664a7c31"
      },
      "outputs": [
        {
          "output_type": "stream",
          "name": "stdout",
          "text": [
            "Donwloaded Mnist Dataset\n",
            "Dataset size :  60000\n",
            "Training using 48000 examples\n",
            "Testing using 12000 examples\n"
          ]
        }
      ],
      "source": [
        "### Load dataset\n",
        "dataloader = torchvision.datasets.MNIST(root = \"\", download=True)\n",
        "train_size = len(dataloader) * 0.8\n",
        "\n",
        "X = np.empty((len(dataloader), 28,28))\n",
        "Y = np.empty(len(dataloader))\n",
        "\n",
        "for i, (image, label) in enumerate(dataloader):\n",
        "    X[i] = image\n",
        "    Y[i] = label\n",
        "\n",
        "X = X / 255\n",
        "\n",
        "X_train = X[:int(train_size)]\n",
        "Y_train = Y[:int(train_size)]\n",
        "\n",
        "X_test = X[int(train_size):]\n",
        "Y_test = Y[int(train_size):]\n",
        "\n",
        "print(\"Donwloaded Mnist Dataset\")\n",
        "print(\"Dataset size : \", len(dataloader))\n",
        "print(f\"Training using {len(X_train)} examples\")\n",
        "print(f\"Testing using {len(X_test)} examples\")\n",
        "\n"
      ]
    },
    {
      "cell_type": "markdown",
      "metadata": {
        "id": "KcypLoi9q6Zz"
      },
      "source": [
        "Le code suivant permet d'afficher quelques images du dataset"
      ]
    },
    {
      "cell_type": "code",
      "execution_count": 20,
      "metadata": {
        "colab": {
          "base_uri": "https://localhost:8080/",
          "height": 483
        },
        "id": "oq_kRnXmDNvJ",
        "outputId": "8edc77d0-ffdd-440f-a731-693d6d51f183"
      },
      "outputs": [
        {
          "output_type": "execute_result",
          "data": {
            "text/plain": [
              "Text(0.5, 0, '5.0')"
            ]
          },
          "metadata": {},
          "execution_count": 20
        },
        {
          "output_type": "display_data",
          "data": {
            "text/plain": [
              "<Figure size 500x500 with 1 Axes>"
            ],
            "image/png": "[encoded data removed]"
          },
          "metadata": {}
        }
      ],
      "source": [
        "### Display data\n",
        "# plt.figure(figsize=(10,10))\n",
        "# for i in range(25):\n",
        "#     plt.subplot(5,5,i+1)\n",
        "#     plt.xticks([])\n",
        "#     plt.yticks([])\n",
        "#     plt.grid(False)\n",
        "#     plt.imshow(X_train[i], cmap=plt.cm.binary)\n",
        "#     plt.xlabel(Y_train[i])\n",
        "\n",
        "### Display one data\n",
        "plt.figure(figsize=(5,5))\n",
        "plt.grid(False)\n",
        "plt.imshow(X_train[0], cmap=plt.cm.plasma)\n",
        "plt.xlabel(Y_train[0])\n"
      ]
    },
    {
      "cell_type": "markdown",
      "metadata": {
        "id": "FP5vldJQ4Ain"
      },
      "source": [
        "Ceci est bien gentil, mais essayons de comprendre un peu la structure de nos données.\n",
        "\n",
        "Nous avons à disposition ```X_train, Y_train, X_test, Y_test```\n",
        "\n",
        "Commencons par ```X_train et X_test```"
      ]
    },
    {
      "cell_type": "code",
      "execution_count": 9,
      "metadata": {
        "colab": {
          "base_uri": "https://localhost:8080/"
        },
        "id": "ZESscckV4Aip",
        "outputId": "45260efb-4d83-4f6f-bf24-a64166f75b71"
      },
      "outputs": [
        {
          "output_type": "execute_result",
          "data": {
            "text/plain": [
              "((48000, 28, 28), (12000, 28, 28))"
            ]
          },
          "metadata": {},
          "execution_count": 9
        }
      ],
      "source": [
        "X_train.shape, X_test.shape"
      ]
    },
    {
      "cell_type": "markdown",
      "metadata": {
        "id": "zrQQ2ypY4Aiq"
      },
      "source": [
        "Ce qu'on peut remarquer ce que X_train contient 48000 examples d'images de taile 28x28\n",
        "X_train contient 1200 images de la même taille"
      ]
    },
    {
      "cell_type": "code",
      "execution_count": 10,
      "metadata": {
        "colab": {
          "base_uri": "https://localhost:8080/"
        },
        "id": "Db7WLtMR4Ais",
        "outputId": "8a0543f8-0848-4efb-f8dc-ff61e4ead288"
      },
      "outputs": [
        {
          "output_type": "execute_result",
          "data": {
            "text/plain": [
              "((48000,), (12000,))"
            ]
          },
          "metadata": {},
          "execution_count": 10
        }
      ],
      "source": [
        "Y_train.shape, Y_test.shape"
      ]
    },
    {
      "cell_type": "markdown",
      "metadata": {
        "id": "UojTUYSJ4Aiu"
      },
      "source": [
        "Pour Y_train et Y_test, nous avons pareil 48000 et 12000 examples mais cette fois on a juste des entiers, cela correspond aux labels. Gardez ça en tête !\n"
      ]
    },
    {
      "cell_type": "markdown",
      "metadata": {
        "id": "f4vJzAgR4Aiv"
      },
      "source": [
        "# Réseau de neurones"
      ]
    },
    {
      "cell_type": "markdown",
      "metadata": {
        "id": "cpyfLRF64Aiw"
      },
      "source": [
        "Nous pouvons maintenant commencer le TP ! Comme abordé lors de la première formation, nous allons utiliser les réseaux des neuronnes.\n",
        "\n",
        "Pour cela, nous allons procéder en 4  étapes :  :\n",
        "- On va d'abord définir notre réseau\n",
        "- Puis définir une fonction de perte et une métode d'optimization\n",
        "- Ensuite on pourra lancer l'entrainement,\n",
        "- A la fin, on pourra évaluer notre modèle\n"
      ]
    },
    {
      "cell_type": "markdown",
      "metadata": {
        "id": "92biG8f74Aix"
      },
      "source": [
        "## Définition du modèle\n",
        "\n",
        "Nous allons utiliser le module ```Sequential```  de Pytorch. Vous pouvez trouver des informations utiles dans la documentation de Pytorch : https://pytorch.org/docs/stable/generated/torch.nn.Sequential.html\n",
        "\n",
        "Essayer d'utiliser le couches ```nn.Linear``` et ```nn.ReLU``` pour reproduire le réseau que nous avons présenté lors de la formation ! N'oubliez pas d'ajouter la softmax à la fin !\n"
      ]
    },
    {
      "cell_type": "code",
      "execution_count": 22,
      "metadata": {
        "id": "viWoWIqI4Aiy"
      },
      "outputs": [],
      "source": [
        "#### Celulle à compléter ####\n",
        "### Compléter la commande avec le réseau qu'on a vu pendant la formation\n",
        "\n",
        "\n",
        "model = nn.Sequential(\n",
        "    nn.Linear(28*28,16),\n",
        "    nn.ReLU(),\n",
        "    nn.Linear(16,16),\n",
        "    nn.ReLU(),\n",
        "    nn.Linear(16,10),\n",
        "    nn.ReLU(),\n",
        "    nn.Softmax(1) # Normaliser sur l'axe du vecteur lors du train\n",
        "\n",
        ")\n",
        "# Compléter avec les couches comme convenu dans la présentation"
      ]
    },
    {
      "cell_type": "markdown",
      "metadata": {
        "id": "eQT9DrpE4Ai0"
      },
      "source": [
        "Si vous appellez juste model, vous pouvez voir un résumé de votre modèle"
      ]
    },
    {
      "cell_type": "code",
      "execution_count": 23,
      "metadata": {
        "colab": {
          "base_uri": "https://localhost:8080/"
        },
        "id": "-82k69CG4Ai1",
        "outputId": "354903f1-e732-4933-a607-f0f363398074"
      },
      "outputs": [
        {
          "output_type": "execute_result",
          "data": {
            "text/plain": [
              "Sequential(\n",
              "  (0): Linear(in_features=784, out_features=16, bias=True)\n",
              "  (1): ReLU()\n",
              "  (2): Linear(in_features=16, out_features=16, bias=True)\n",
              "  (3): ReLU()\n",
              "  (4): Linear(in_features=16, out_features=10, bias=True)\n",
              "  (5): ReLU()\n",
              "  (6): Softmax(dim=1)\n",
              ")"
            ]
          },
          "metadata": {},
          "execution_count": 23
        }
      ],
      "source": [
        "model"
      ]
    },
    {
      "cell_type": "markdown",
      "metadata": {
        "id": "Z9yn4vKlvhgP"
      },
      "source": [
        "## Définition de la fonction de perte et de l'optimizer"
      ]
    },
    {
      "cell_type": "markdown",
      "metadata": {
        "id": "LJaghlmX4Ai4"
      },
      "source": [
        "On va utiliser la function MSELoss et le optimizer Adam (vous pouvez trouver de la documentation ici :https://pytorch.org/docs/stable/optim.html ):"
      ]
    },
    {
      "cell_type": "code",
      "execution_count": 24,
      "metadata": {
        "id": "oy1WXk9E4Ai5"
      },
      "outputs": [],
      "source": [
        "#### Celulle à compléter ####\n",
        "\n",
        "loss_function = nn.MSELoss() # moindres carrés (fonction coût)\n",
        "optimizer = torch.optim.Adam(model.parameters())"
      ]
    },
    {
      "cell_type": "markdown",
      "metadata": {
        "id": "4R4l8wwdDNvL",
        "outputId": "82d75688-c7c6-4582-8c20-133d97d4046c"
      },
      "source": [
        "## Entraînement\n",
        "### Préliminaires"
      ]
    },
    {
      "cell_type": "markdown",
      "metadata": {
        "id": "uLm-95R-4Ai6"
      },
      "source": [
        "Avant de lancer la boucle d'entraînement, il faut préparer un peu le terrain :\n",
        "\n",
        "Rappelez vous que tout d'abord, il fallait \"flatten\" nos images d'entrée de 28*28 à un gros vecteur de taille 784\n",
        "\n",
        "Ensuite, vous pouvez remarquer que les labels que nous avons à notre disposition ne sont pas dans le bon format ! Notre réseau sort un vecteur de probbilités, tandis que les labels dans Y_train sont des entiers. Il faut donc transformer les entiers dans des vecteurs de probabilité. Ceci s'appelle l'encodage one-hot.\n",
        "\n",
        "Exemple :\n",
        "5 devient [0, 0, 0, 0, 0, 1, 0, 0, 0, 0]\n",
        "\n"
      ]
    },
    {
      "cell_type": "code",
      "execution_count": 32,
      "metadata": {
        "id": "Bqmc-Xjb4Ai8"
      },
      "outputs": [],
      "source": [
        "#### Celulle à compléter ####\n",
        "# On commence par changer la structure de X_train. Nous voulons qqch de la forme (N, 28*28)\n",
        "\n",
        "X_train_flattened = X_train.reshape(-1, 28*28)"
      ]
    },
    {
      "cell_type": "code",
      "execution_count": 29,
      "metadata": {
        "colab": {
          "base_uri": "https://localhost:8080/"
        },
        "id": "kRFkZJAy4Ai9",
        "outputId": "63d8daa9-1eaf-4dae-bfb9-4093cf178a25"
      },
      "outputs": [
        {
          "output_type": "execute_result",
          "data": {
            "text/plain": [
              "(48000, 10)"
            ]
          },
          "metadata": {},
          "execution_count": 29
        }
      ],
      "source": [
        "#### Celulle à compléter ####\n",
        "\n",
        "# Appliquons maintenant un encodage one-hot de Y_train\n",
        "\n",
        "\n",
        "# Encodage one hot\n",
        "Y_train_onehot = np.zeros((Y_train.size,10))\n",
        "Y_train_onehot[np.arange(len(Y_train)),Y_train.astype(int)]=1 # voir encodage one hot\n",
        "\n",
        "# Visualisons la forme de cette nouvelle matrice\n",
        "\n",
        "Y_train_onehot.shape"
      ]
    },
    {
      "cell_type": "markdown",
      "metadata": {
        "id": "FKFxY8cw4Ai_"
      },
      "source": [
        "Nous sommes presque prêts à entrainer. La dernière chose qui reste est de transformer nos arrays type numpy aux tensor type Pytorch. L'object tensor est un object spécifique à Pytorch, qui permet de faire des calculs spécifiques au Deep Learning de manière paralelisé, donc très efficace.\n",
        "Vous pouvez trouver plus des détails sur internet : https://pytorch.org/tutorials/beginner/introyt/tensors_deeper_tutorial.html\n",
        "\n",
        "Pour ce qui nous concerne, nous allons manipuler les tensors comme des arrays numpy"
      ]
    },
    {
      "cell_type": "markdown",
      "metadata": {
        "id": "EcWRE_vGxdLQ"
      },
      "source": [
        "Maintenant vous allez entrainer votre modèle sur le dataset qui comporte les images (x_train) associées à leur label (y_train). Pour cela on utilise la méthode `model.fit(...)`.\n",
        "\n",
        "L'argument epochs correspond au nombre de fois où le dataset est présenté au réseau de neurones. Ici mettez entre 1 et 20 epochs.\n",
        "\n",
        "L'argument validation_data sert à vérifier que votre modèle est bon sur des images qu'il n'a jamais vues (pas utilisées dans l'entrainement), i.e. qu'il n'a pas \"appris\" le dataset par cœur.\n",
        "\n",
        "Documentation : https://www.tensorflow.org/api_docs/python/tf/keras/Model"
      ]
    },
    {
      "cell_type": "code",
      "execution_count": 34,
      "metadata": {
        "id": "yXAAx8f14AjB"
      },
      "outputs": [],
      "source": [
        "#### Celulle à compléter ####\n",
        "# Convertissez vos arrays en tensor, verifiez que le type est bien float32\n",
        "\n",
        "X_train_torch = torch.tensor(X_train_flattened, dtype=torch.float32)\n",
        "Y_train_onehot_torch = torch.tensor(Y_train_onehot, dtype=torch.float32)"
      ]
    },
    {
      "cell_type": "code",
      "execution_count": 35,
      "metadata": {
        "colab": {
          "base_uri": "https://localhost:8080/"
        },
        "id": "lIZiWnt74AjC",
        "outputId": "7bec9985-2bf8-4812-ba1d-791e8eccdf21"
      },
      "outputs": [
        {
          "output_type": "execute_result",
          "data": {
            "text/plain": [
              "(torch.float32, torch.float32)"
            ]
          },
          "metadata": {},
          "execution_count": 35
        }
      ],
      "source": [
        "# Code de vérification du type de vos tensors\n",
        "\n",
        "Y_train_onehot_torch.dtype, X_train_torch.dtype,"
      ]
    },
    {
      "cell_type": "markdown",
      "metadata": {
        "id": "HMlFj4Wm4AjD"
      },
      "source": [
        "### Boucle d'entraînement"
      ]
    },
    {
      "cell_type": "code",
      "execution_count": 39,
      "metadata": {
        "colab": {
          "base_uri": "https://localhost:8080/"
        },
        "id": "FUfU20C64AjE",
        "outputId": "f58389de-bb84-4c2c-a1f5-41a9173ddd40"
      },
      "outputs": [
        {
          "output_type": "stream",
          "name": "stdout",
          "text": [
            "tensor(0.0156, grad_fn=<MseLossBackward0>)\n"
          ]
        }
      ],
      "source": [
        "#### Celulle à compléter ####\n",
        "epochs = 500 # nombre d'itérations pour l'entrainement (1 pour vérifier si ça marche, à modifier ensuite)\n",
        "\n",
        "\n",
        "for _ in range(epochs):\n",
        "    outputs = model(X_train_torch) # Calculer les predictions du modèle\n",
        "\n",
        "    loss =  loss_function(outputs, Y_train_onehot_torch) # Calculer la loss\n",
        "\n",
        "    print(loss)\n",
        "\n",
        "    optimizer.zero_grad() # Mettre les gradients à 0\n",
        "\n",
        "    loss.backward()     # Faire de la backpropagation\n",
        "\n",
        "    optimizer.step()     # Appliquer la formule de mise à jour des poids\n",
        "\n",
        "\n",
        ""
      ]
    },
    {
      "cell_type": "markdown",
      "metadata": {
        "id": "NhZmyna_4AjF"
      },
      "source": [
        "Votre loss diminue, c'est déjà bon signe !\n",
        "\n",
        "Mais est-ce que votre réseau est vraimenent performant ? Il est temps d'évaluer ses performances  !"
      ]
    },
    {
      "cell_type": "markdown",
      "metadata": {
        "id": "lY2gm4V84AjG"
      },
      "source": [
        "## Evaluation du modèle"
      ]
    },
    {
      "cell_type": "markdown",
      "metadata": {
        "id": "MAgGSF8o4AjH"
      },
      "source": [
        "Il faut qu'on prépare les X_test et Y_test de la même manière que X_train et Y_train. Cependant, cette fois au lieu de transformer Y_test en one-hot, on va plutot transformer les predictions de notre modèle en entier."
      ]
    },
    {
      "cell_type": "code",
      "execution_count": 41,
      "metadata": {
        "id": "n0ZsSEUp4AjH"
      },
      "outputs": [],
      "source": [
        "#### Celulle à compléter ####\n",
        "\n",
        "# Commencons par le changement de dimension et la transformation en tensor\n",
        "\n",
        "X_test_flatten = X_test.reshape(-1, 28*28)\n",
        "X_test_flatten_torch = torch.tensor(X_test_flatten, dtype=torch.float32)\n"
      ]
    },
    {
      "cell_type": "markdown",
      "metadata": {
        "id": "4NGB52Za4AjI"
      },
      "source": [
        "On peut faire passer donc X_test à travers le réseau et récuperer la sortie"
      ]
    },
    {
      "cell_type": "code",
      "execution_count": 42,
      "metadata": {
        "colab": {
          "base_uri": "https://localhost:8080/"
        },
        "id": "2jYgGqDH4AjJ",
        "outputId": "2e81b9d6-9839-41b2-8826-ea7e8a4b5ec2"
      },
      "outputs": [
        {
          "output_type": "execute_result",
          "data": {
            "text/plain": [
              "torch.Size([12000, 10])"
            ]
          },
          "metadata": {},
          "execution_count": 42
        }
      ],
      "source": [
        "outputs = model(X_test_flatten_torch)\n",
        "outputs.shape"
      ]
    },
    {
      "cell_type": "markdown",
      "metadata": {
        "id": "FaQFQiDn4AjJ"
      },
      "source": [
        "Transformons maintenant les vecteurs de probabilité en entiers"
      ]
    },
    {
      "cell_type": "code",
      "execution_count": 49,
      "metadata": {
        "colab": {
          "base_uri": "https://localhost:8080/"
        },
        "id": "AnsKuJi-4AjK",
        "outputId": "e5d82af5-c124-4666-81e5-893da9bfd1ff"
      },
      "outputs": [
        {
          "output_type": "execute_result",
          "data": {
            "text/plain": [
              "torch.Size([48000])"
            ]
          },
          "metadata": {},
          "execution_count": 49
        }
      ],
      "source": [
        "predicted_labels = outputs.argmax(axis=1) # donne l'indice du max dans les vecteurs du array donc axis=1)\n",
        "predicted_labels.size()"
      ]
    },
    {
      "cell_type": "code",
      "execution_count": 44,
      "metadata": {
        "colab": {
          "base_uri": "https://localhost:8080/"
        },
        "id": "IMeR2oa04AjK",
        "outputId": "a34a493a-a2a6-4604-e4d2-bcf53f909c8a"
      },
      "outputs": [
        {
          "output_type": "execute_result",
          "data": {
            "text/plain": [
              "0.8530833333333333"
            ]
          },
          "metadata": {},
          "execution_count": 44
        }
      ],
      "source": [
        "diff = predicted_labels - Y_test\n",
        "accuracy = len(diff[diff==0]) / len(diff) # compte le nombre d'éléments nuls, pour trouver le nombre de bonnes réponses ==> FANCY INDEXING\n",
        "accuracy"
      ]
    },
    {
      "cell_type": "markdown",
      "metadata": {
        "id": "nxbqfSnm4AjM"
      },
      "source": [
        "## Améliorations possibles\n",
        "\n",
        "Bravo ! Vous avez entrainé votre réseau et évalué votre modèle. Nous allons maintenant essayer d'améliorer un peu votre boucle d'entraînement.\n",
        "\n",
        "D'abord on va entrainer pour plusieurs epochs, donc on veut afficher la loss que périodiqement. Ensuite, il serait intéresant de tracer l'évolution de notre courbe de loss.\n",
        "Finalement, on pourrait aussi evaluer le modèle à chaque fois qu'on calcule la loss pour avoir une idée plus précise de la performance du modèle\n"
      ]
    },
    {
      "cell_type": "markdown",
      "metadata": {
        "id": "eepfyfia4AjN"
      },
      "source": [
        "On va commencer par les deux premières étapes"
      ]
    },
    {
      "cell_type": "code",
      "execution_count": 48,
      "metadata": {
        "colab": {
          "base_uri": "https://localhost:8080/",
          "height": 1000
        },
        "id": "UpvzNmlr4AjN",
        "outputId": "b87c522b-afdb-41d1-b340-7bde57fe2337"
      },
      "outputs": [
        {
          "output_type": "stream",
          "name": "stdout",
          "text": [
            "tensor(0.0153, grad_fn=<MseLossBackward0>)\n",
            "tensor(0.0153, grad_fn=<MseLossBackward0>)\n",
            "tensor(0.0152, grad_fn=<MseLossBackward0>)\n",
            "tensor(0.0151, grad_fn=<MseLossBackward0>)\n",
            "tensor(0.0151, grad_fn=<MseLossBackward0>)\n",
            "tensor(0.0150, grad_fn=<MseLossBackward0>)\n",
            "tensor(0.0150, grad_fn=<MseLossBackward0>)\n",
            "tensor(0.0149, grad_fn=<MseLossBackward0>)\n",
            "tensor(0.0149, grad_fn=<MseLossBackward0>)\n",
            "tensor(0.0148, grad_fn=<MseLossBackward0>)\n",
            "tensor(0.0148, grad_fn=<MseLossBackward0>)\n",
            "tensor(0.0147, grad_fn=<MseLossBackward0>)\n",
            "tensor(0.0147, grad_fn=<MseLossBackward0>)\n",
            "tensor(0.0146, grad_fn=<MseLossBackward0>)\n",
            "tensor(0.0146, grad_fn=<MseLossBackward0>)\n",
            "tensor(0.0145, grad_fn=<MseLossBackward0>)\n",
            "tensor(0.0145, grad_fn=<MseLossBackward0>)\n",
            "tensor(0.0145, grad_fn=<MseLossBackward0>)\n",
            "tensor(0.0144, grad_fn=<MseLossBackward0>)\n",
            "tensor(0.0144, grad_fn=<MseLossBackward0>)\n",
            "tensor(0.0143, grad_fn=<MseLossBackward0>)\n",
            "tensor(0.0143, grad_fn=<MseLossBackward0>)\n",
            "tensor(0.0143, grad_fn=<MseLossBackward0>)\n",
            "tensor(0.0142, grad_fn=<MseLossBackward0>)\n",
            "tensor(0.0142, grad_fn=<MseLossBackward0>)\n",
            "tensor(0.0141, grad_fn=<MseLossBackward0>)\n",
            "tensor(0.0141, grad_fn=<MseLossBackward0>)\n",
            "tensor(0.0141, grad_fn=<MseLossBackward0>)\n",
            "tensor(0.0140, grad_fn=<MseLossBackward0>)\n",
            "tensor(0.0140, grad_fn=<MseLossBackward0>)\n",
            "tensor(0.0140, grad_fn=<MseLossBackward0>)\n",
            "tensor(0.0139, grad_fn=<MseLossBackward0>)\n",
            "tensor(0.0139, grad_fn=<MseLossBackward0>)\n",
            "tensor(0.0139, grad_fn=<MseLossBackward0>)\n",
            "tensor(0.0138, grad_fn=<MseLossBackward0>)\n",
            "tensor(0.0138, grad_fn=<MseLossBackward0>)\n",
            "tensor(0.0138, grad_fn=<MseLossBackward0>)\n",
            "tensor(0.0137, grad_fn=<MseLossBackward0>)\n",
            "tensor(0.0137, grad_fn=<MseLossBackward0>)\n",
            "tensor(0.0136, grad_fn=<MseLossBackward0>)\n",
            "tensor(0.0136, grad_fn=<MseLossBackward0>)\n",
            "tensor(0.0136, grad_fn=<MseLossBackward0>)\n",
            "tensor(0.0135, grad_fn=<MseLossBackward0>)\n",
            "tensor(0.0135, grad_fn=<MseLossBackward0>)\n",
            "tensor(0.0135, grad_fn=<MseLossBackward0>)\n",
            "tensor(0.0134, grad_fn=<MseLossBackward0>)\n",
            "tensor(0.0134, grad_fn=<MseLossBackward0>)\n",
            "tensor(0.0134, grad_fn=<MseLossBackward0>)\n",
            "tensor(0.0133, grad_fn=<MseLossBackward0>)\n",
            "tensor(0.0133, grad_fn=<MseLossBackward0>)\n",
            "Fin de l'entrainement\n"
          ]
        },
        {
          "output_type": "execute_result",
          "data": {
            "text/plain": [
              "[<matplotlib.lines.Line2D at 0x7e057a0e0cd0>]"
            ]
          },
          "metadata": {},
          "execution_count": 48
        },
        {
          "output_type": "display_data",
          "data": {
            "text/plain": [
              "<Figure size 640x480 with 1 Axes>"
            ],
            "image/png": "[encoded data removed]"
          },
          "metadata": {}
        }
      ],
      "source": [
        "#### Celulle à compléter ####\n",
        "epochs = 500\n",
        "losses = []\n",
        "\n",
        "# A compléter\n",
        "\n",
        "for i in range(epochs):\n",
        "    # A vous de jouer !\n",
        "    outputs = model(X_train_torch) # Calculer les predictions du modèle\n",
        "\n",
        "    loss =  loss_function(outputs, Y_train_onehot_torch) # Calculer la loss\n",
        "\n",
        "    losses.append(loss.item()) # pour afficher le tenseur\n",
        "\n",
        "    optimizer.zero_grad() # Mettre les gradients à 0\n",
        "\n",
        "    loss.backward()     # Faire de la backpropagation\n",
        "\n",
        "    optimizer.step()     # Appliquer la formule de mise à jour des poids\n",
        "\n",
        "    if i % 10==0:\n",
        "      print(loss)\n",
        "\n",
        "print(\"Fin de l'entrainement\")\n",
        "plt.plot(losses)\n"
      ]
    },
    {
      "cell_type": "markdown",
      "metadata": {
        "id": "514OtcC84AjN"
      },
      "source": [
        "Ecrivos maintenant une fonction ```evaluate_model()``` qui permet de calculer la précision du modèle"
      ]
    },
    {
      "cell_type": "code",
      "execution_count": 50,
      "metadata": {
        "id": "JQE6F2Ck4AjO"
      },
      "outputs": [],
      "source": [
        "#### Celulle à compléter ####\n",
        "# meme chose mais dans une fonction pour plot l'accuracy en cours de calcul\n",
        "def evaluate_model(model):\n",
        "    # A vous de jouer !\n",
        "    outputs=model(X_test_flatten_torch)\n",
        "    predicted_labels = outputs.argmax(axis=1) # donne l'indice du max dans les vecteurs du array donc axis=1)\n",
        "    diff = predicted_labels - Y_test\n",
        "    accuracy = len(diff[diff==0]) / len(diff) # compte le nombre d'éléments nuls, pour trouver le nombre de bonnes réponses ==> FANCY INDEXING\n",
        "    return(accuracy)"
      ]
    },
    {
      "cell_type": "markdown",
      "metadata": {
        "id": "P5y21xRr4AjP"
      },
      "source": [
        "Nous avons tous les éléments maintenant pour créer une bonne boucle d'entraînement. Nous allons redéfinir notre modèle pour initialiser nos poids et commencer table rase (Attention à rédefinir l'optimizer parce que\n",
        "nous avons des nouveaus paramètres maintenant):"
      ]
    },
    {
      "cell_type": "code",
      "execution_count": 51,
      "metadata": {
        "colab": {
          "base_uri": "https://localhost:8080/",
          "height": 1000
        },
        "id": "n5aWiDCy4AjQ",
        "outputId": "33b9914d-0d05-4244-fde1-818e2199d96e"
      },
      "outputs": [
        {
          "output_type": "stream",
          "name": "stdout",
          "text": [
            "Début de l'entraînement\n",
            "Epoch 0 | Loss : 0.09006863087415695 | Accuracy : 0.0975\n",
            "Epoch 50 | Loss : 0.06940998882055283 | Accuracy : 0.5991666666666666\n",
            "Epoch 100 | Loss : 0.03627566993236542 | Accuracy : 0.788\n",
            "Epoch 150 | Loss : 0.02794267237186432 | Accuracy : 0.8236666666666667\n",
            "Epoch 200 | Loss : 0.025029469281435013 | Accuracy : 0.8325833333333333\n",
            "Epoch 250 | Loss : 0.02207648940384388 | Accuracy : 0.8368333333333333\n",
            "Epoch 300 | Loss : 0.020101958885788918 | Accuracy : 0.8421666666666666\n",
            "Epoch 350 | Loss : 0.018846608698368073 | Accuracy : 0.8465833333333334\n",
            "Epoch 400 | Loss : 0.01796090416610241 | Accuracy : 0.8495833333333334\n",
            "Epoch 450 | Loss : 0.01729375682771206 | Accuracy : 0.8518333333333333\n",
            "Fin de l'entraînement\n"
          ]
        },
        {
          "output_type": "execute_result",
          "data": {
            "text/plain": [
              "[<matplotlib.lines.Line2D at 0x7e057a384a90>]"
            ]
          },
          "metadata": {},
          "execution_count": 51
        },
        {
          "output_type": "display_data",
          "data": {
            "text/plain": [
              "<Figure size 640x480 with 1 Axes>"
            ],
            "image/png": "[encoded data removed]"
          },
          "metadata": {}
        },
        {
          "output_type": "display_data",
          "data": {
            "text/plain": [
              "<Figure size 640x480 with 1 Axes>"
            ],
            "image/png": "[encoded data removed]"
          },
          "metadata": {}
        }
      ],
      "source": [
        "#### Celulle à compléter ####\n",
        "epochs = 500\n",
        "losses = []\n",
        "accuracies = []\n",
        "\n",
        "\n",
        "model = nn.Sequential(\n",
        "    nn.Linear(28*28,16),\n",
        "    nn.ReLU(),\n",
        "    nn.Linear(16,16),\n",
        "    nn.ReLU(),\n",
        "    nn.Linear(16,10),\n",
        "    nn.ReLU(),\n",
        "    nn.Softmax(1))\n",
        "\n",
        "loss_function = nn.MSELoss() # moindres carrés (fonction coût)\n",
        "optimizer = torch.optim.Adam(model.parameters())\n",
        "\n",
        "print(\"Début de l'entraînement\")\n",
        "\n",
        "for i in range(epochs):\n",
        "    outputs =  model(X_train_torch)# Calculer les predictions du modèle\n",
        "    loss =  loss_function(outputs, Y_train_onehot_torch) # Calculer la loss\n",
        "\n",
        "    losses.append(loss.item()) # pour afficher le tenseur\n",
        "\n",
        "    optimizer.zero_grad() # Mettre les gradients à 0\n",
        "\n",
        "    loss.backward()     # Faire de la backpropagation\n",
        "\n",
        "    optimizer.step()     # Appliquer la formule de mise à jour des poids\n",
        "\n",
        "    if i % 50 == 0:\n",
        "        accuracy = evaluate_model(model)\n",
        "        print(f\"Epoch {i} | Loss : {loss} | Accuracy : {accuracy}\") # super pratique pour afficher des str en python\n",
        "        accuracies.append(accuracy)\n",
        "\n",
        "# attention, la loss peut diminuer mais l'accuracy n'augmente pas forcément ==> problème d'overfitting, le  modèle est tellement spécifique qu'il devinet aléatoire sur un dataset plus varié\n",
        "\n",
        "\n",
        "print(\"Fin de l'entraînement\")\n",
        "plt.plot(losses)\n",
        "plt.figure()\n",
        "plt.plot(accuracies, \"o\", color=\"red\")\n"
      ]
    },
    {
      "cell_type": "code",
      "execution_count": 52,
      "metadata": {
        "colab": {
          "base_uri": "https://localhost:8080/"
        },
        "id": "3q9NsFVG4AjR",
        "outputId": "200c09a1-326e-4c92-a348-970d081381a1"
      },
      "outputs": [
        {
          "output_type": "execute_result",
          "data": {
            "text/plain": [
              "13002"
            ]
          },
          "metadata": {},
          "execution_count": 52
        }
      ],
      "source": [
        "sum(p.numel() for p in model.parameters() if p.requires_grad) # compte le nombre des paramètres"
      ]
    },
    {
      "cell_type": "markdown",
      "metadata": {
        "id": "5sj6ASOI4AjS"
      },
      "source": [
        "## A vous de jouer ! Est-ce que vous pouvez faire mieux ?\n"
      ]
    },
    {
      "cell_type": "code",
      "execution_count": null,
      "metadata": {
        "id": "_L3ZEl3U4AjS"
      },
      "outputs": [],
      "source": []
    },
    {
      "cell_type": "code",
      "execution_count": null,
      "metadata": {
        "id": "tbomi_UB4AjS"
      },
      "outputs": [],
      "source": []
    },
    {
      "cell_type": "code",
      "execution_count": null,
      "metadata": {
        "id": "6TqzR4hd4AjT"
      },
      "outputs": [],
      "source": []
    },
    {
      "cell_type": "code",
      "execution_count": null,
      "metadata": {
        "id": "WWVQ2Ywr4AjT"
      },
      "outputs": [],
      "source": []
    },
    {
      "cell_type": "code",
      "execution_count": null,
      "metadata": {
        "id": "pYoUBA3O4AjU"
      },
      "outputs": [],
      "source": []
    },
    {
      "cell_type": "code",
      "execution_count": null,
      "metadata": {
        "id": "iRBUqq6x4AjU",
        "outputId": "0479f003-e340-4f48-cc45-84c6b26c99f1"
      },
      "outputs": [
        {
          "name": "stdout",
          "output_type": "stream",
          "text": [
            "[255 255 255 ... 255 255 255]\n"
          ]
        }
      ],
      "source": [
        "import cv2\n",
        "import numpy as np\n",
        "\n",
        "drawing = False  # true if mouse is pressed\n",
        "pt1_x, pt1_y = None, None\n",
        "\n",
        "\n",
        "# mouse callback function\n",
        "def line_drawing(event, x, y, flags, param):\n",
        "    global pt1_x, pt1_y, drawing\n",
        "\n",
        "    if event == cv2.EVENT_LBUTTONDOWN:\n",
        "        drawing = True\n",
        "        pt1_x, pt1_y = x, y\n",
        "\n",
        "    elif event == cv2.EVENT_MOUSEMOVE:\n",
        "        if drawing == True:\n",
        "            cv2.line(img, (pt1_x, pt1_y), (x, y), color=(255, 255, 255), thickness=3)\n",
        "            pt1_x, pt1_y = x, y\n",
        "    elif event == cv2.EVENT_LBUTTONUP:\n",
        "        drawing = False\n",
        "        cv2.line(img, (pt1_x, pt1_y), (x, y), color=(255, 255, 255), thickness=3)\n",
        "\n",
        "\n",
        "img = np.zeros((512, 512, 3), np.uint8)\n",
        "cv2.namedWindow(\"test draw\")\n",
        "cv2.setMouseCallback(\"test draw\", line_drawing)\n",
        "\n",
        "frames = 1\n",
        "while True:\n",
        "    cv2.imshow(\"test draw\", img)\n",
        "    if cv2.waitKey(1) & 0xFF == 27:\n",
        "        break\n",
        "\n",
        "    if frames % 100 == 0:\n",
        "        img_resized = cv2.resize(img, (28, 28))\n",
        "        img_resized = cv2.cvtColor(img_resized, cv2.COLOR_BGR2GRAY)\n",
        "        img_resized = img_resized / 255\n",
        "        img_resized = img_resized.reshape(1, 28*28)\n",
        "        img_resized = torch.from_numpy(img_resized).float()\n",
        "        outputs = model(img_resized)\n",
        "        predicted_label = outputs.argmax(axis=1)\n",
        "        print(f\"Predicted label : {predicted_label}\")\n",
        "        img = np.zeros((512, 512, 3), np.uint8)\n",
        "\n",
        "    frames += 1\n",
        "\n",
        "\n",
        "cv2.destroyAllWindows()"
      ]
    },
    {
      "cell_type": "code",
      "execution_count": null,
      "metadata": {
        "id": "0kyf3lXz4AjV"
      },
      "outputs": [],
      "source": []
    }
  ],
  "metadata": {
    "accelerator": "GPU",
    "colab": {
      "provenance": []
    },
    "gpuClass": "standard",
    "kernelspec": {
      "display_name": "Python 3 (ipykernel)",
      "language": "python",
      "name": "python3"
    },
    "language_info": {
      "codemirror_mode": {
        "name": "ipython",
        "version": 3
      },
      "file_extension": ".py",
      "mimetype": "text/x-python",
      "name": "python",
      "nbconvert_exporter": "python",
      "pygments_lexer": "ipython3",
      "version": "3.8.16"
    },
    "vscode": {
      "interpreter": {
        "hash": "32c9d2eacc2762f52bef3ce1121499e437c40c335720e1c9a43a308cd905b17a"
      }
    }
  },
  "nbformat": 4,
  "nbformat_minor": 0
}